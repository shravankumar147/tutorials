{
  "nbformat": 4,
  "nbformat_minor": 0,
  "metadata": {
    "colab": {
      "name": "Music Generation.ipynb",
      "provenance": [],
      "authorship_tag": "ABX9TyP3ykGkMxl86YcwyYR/GdK4",
      "include_colab_link": true
    },
    "kernelspec": {
      "name": "python3",
      "display_name": "Python 3"
    }
  },
  "cells": [
    {
      "cell_type": "markdown",
      "metadata": {
        "id": "view-in-github",
        "colab_type": "text"
      },
      "source": [
        "<a href=\"https://colab.research.google.com/github/shravankumar147/tutorials/blob/master/Music_Generation.ipynb\" target=\"_parent\"><img src=\"https://colab.research.google.com/assets/colab-badge.svg\" alt=\"Open In Colab\"/></a>"
      ]
    },
    {
      "cell_type": "code",
      "metadata": {
        "id": "0EcO-OjDc-Xs"
      },
      "source": [
        "#library for understanding music\r\n",
        "from music21 import *"
      ],
      "execution_count": 18,
      "outputs": []
    },
    {
      "cell_type": "code",
      "metadata": {
        "id": "mCnCX2fXdl66"
      },
      "source": [
        "#defining function to read MIDI files\r\n",
        "def read_midi(file):\r\n",
        "    \r\n",
        "    print(\"Loading Music File:\",file)\r\n",
        "    \r\n",
        "    notes=[]\r\n",
        "    notes_to_parse = None\r\n",
        "    \r\n",
        "    #parsing a midi file\r\n",
        "    midi = converter.parse(file)\r\n",
        "  \r\n",
        "    #grouping based on different instruments\r\n",
        "    s2 = instrument.partitionByInstrument(midi)\r\n",
        "\r\n",
        "    #Looping over all the instruments\r\n",
        "    for part in s2.parts:\r\n",
        "    \r\n",
        "        #select elements of only piano\r\n",
        "        if 'Piano' in str(part): \r\n",
        "        \r\n",
        "            notes_to_parse = part.recurse() \r\n",
        "      \r\n",
        "            #finding whether a particular element is note or a chord\r\n",
        "            for element in notes_to_parse:\r\n",
        "                \r\n",
        "                #note\r\n",
        "                if isinstance(element, note.Note):\r\n",
        "                    notes.append(str(element.pitch))\r\n",
        "                \r\n",
        "                #chord\r\n",
        "                elif isinstance(element, chord.Chord):\r\n",
        "                    notes.append('.'.join(str(n) for n in element.normalOrder))\r\n",
        "\r\n",
        "    return np.array(notes)"
      ],
      "execution_count": 19,
      "outputs": []
    },
    {
      "cell_type": "code",
      "metadata": {
        "colab": {
          "base_uri": "https://localhost:8080/"
        },
        "id": "TZ3j557pfSd1",
        "outputId": "25b948c3-e91d-4265-b694-b3f3a0459675"
      },
      "source": [
        "from google.colab import drive\n",
        "drive.mount('/gdrive')\n",
        "%cd /gdrive"
      ],
      "execution_count": 1,
      "outputs": [
        {
          "output_type": "stream",
          "text": [
            "Mounted at /gdrive\n",
            "/gdrive\n"
          ],
          "name": "stdout"
        }
      ]
    },
    {
      "cell_type": "code",
      "metadata": {
        "colab": {
          "base_uri": "https://localhost:8080/"
        },
        "id": "LPzZlI9zf6mj",
        "outputId": "aa3bfd6c-90b5-4208-c9ba-d161248c9175"
      },
      "source": [
        "ls \"MyDrive/ColabNotebooks/NLP/datasets/schubert\""
      ],
      "execution_count": 15,
      "outputs": [
        {
          "output_type": "stream",
          "text": [
            "schu_143_1.mid    schub_d960_2.mid     schubert_D935_2.mid  schumm-2.mid\n",
            "schu_143_2.mid    schub_d960_3.mid     schubert_D935_3.mid  schumm-3.mid\n",
            "schu_143_3.mid    schub_d960_4.mid     schubert_D935_4.mid  schumm-4.mid\n",
            "schub_d760_1.mid  schubert_D850_1.mid  schuim-1.mid         schumm-5.mid\n",
            "schub_d760_2.mid  schubert_D850_2.mid  schuim-2.mid         schumm-6.mid\n",
            "schub_d760_3.mid  schubert_D850_3.mid  schuim-3.mid\n",
            "schub_d760_4.mid  schubert_D850_4.mid  schuim-4.mid\n",
            "schub_d960_1.mid  schubert_D935_1.mid  schumm-1.mid\n"
          ],
          "name": "stdout"
        }
      ]
    },
    {
      "cell_type": "code",
      "metadata": {
        "colab": {
          "base_uri": "https://localhost:8080/"
        },
        "id": "F2dV76aOhm1D",
        "outputId": "01ff8438-2090-4af2-a5ce-4d0e6b17b2e5"
      },
      "source": [
        "os.listdir(\"MyDrive/ColabNotebooks/NLP/datasets/schubert\")"
      ],
      "execution_count": 16,
      "outputs": [
        {
          "output_type": "execute_result",
          "data": {
            "text/plain": [
              "['schu_143_3.mid',\n",
              " 'schu_143_2.mid',\n",
              " 'schu_143_1.mid',\n",
              " 'schumm-6.mid',\n",
              " 'schumm-5.mid',\n",
              " 'schumm-4.mid',\n",
              " 'schumm-2.mid',\n",
              " 'schumm-3.mid',\n",
              " 'schumm-1.mid',\n",
              " 'schuim-4.mid',\n",
              " 'schuim-3.mid',\n",
              " 'schuim-2.mid',\n",
              " 'schuim-1.mid',\n",
              " 'schub_d960_4.mid',\n",
              " 'schub_d960_3.mid',\n",
              " 'schub_d960_2.mid',\n",
              " 'schub_d960_1.mid',\n",
              " 'schub_d760_4.mid',\n",
              " 'schub_d760_3.mid',\n",
              " 'schub_d760_2.mid',\n",
              " 'schub_d760_1.mid',\n",
              " 'schubert_D935_4.mid',\n",
              " 'schubert_D935_3.mid',\n",
              " 'schubert_D935_2.mid',\n",
              " 'schubert_D935_1.mid',\n",
              " 'schubert_D850_1.mid',\n",
              " 'schubert_D850_2.mid',\n",
              " 'schubert_D850_4.mid',\n",
              " 'schubert_D850_3.mid']"
            ]
          },
          "metadata": {
            "tags": []
          },
          "execution_count": 16
        }
      ]
    },
    {
      "cell_type": "code",
      "metadata": {
        "colab": {
          "base_uri": "https://localhost:8080/"
        },
        "id": "_Borlewsea9I",
        "outputId": "94e8fa93-75b3-4115-9706-832d3dc9e4d2"
      },
      "source": [
        "#for listing down the file names\r\n",
        "import os\r\n",
        "\r\n",
        "#Array Processing\r\n",
        "import numpy as np\r\n",
        "\r\n",
        "#specify the path\r\n",
        "path=\"MyDrive/ColabNotebooks/NLP/datasets/schubert/\"\r\n",
        "\r\n",
        "#read all the filenames\r\n",
        "files=[i for i in os.listdir(path) if i.endswith(\".mid\")]\r\n",
        "\r\n",
        "#reading each midi file\r\n",
        "notes_array = np.array([read_midi(path+i) for i in files])"
      ],
      "execution_count": 21,
      "outputs": [
        {
          "output_type": "stream",
          "text": [
            "Loading Music File: MyDrive/ColabNotebooks/NLP/datasets/schubert/schu_143_3.mid\n",
            "Loading Music File: MyDrive/ColabNotebooks/NLP/datasets/schubert/schu_143_2.mid\n",
            "Loading Music File: MyDrive/ColabNotebooks/NLP/datasets/schubert/schu_143_1.mid\n",
            "Loading Music File: MyDrive/ColabNotebooks/NLP/datasets/schubert/schumm-6.mid\n",
            "Loading Music File: MyDrive/ColabNotebooks/NLP/datasets/schubert/schumm-5.mid\n",
            "Loading Music File: MyDrive/ColabNotebooks/NLP/datasets/schubert/schumm-4.mid\n",
            "Loading Music File: MyDrive/ColabNotebooks/NLP/datasets/schubert/schumm-2.mid\n",
            "Loading Music File: MyDrive/ColabNotebooks/NLP/datasets/schubert/schumm-3.mid\n",
            "Loading Music File: MyDrive/ColabNotebooks/NLP/datasets/schubert/schumm-1.mid\n",
            "Loading Music File: MyDrive/ColabNotebooks/NLP/datasets/schubert/schuim-4.mid\n",
            "Loading Music File: MyDrive/ColabNotebooks/NLP/datasets/schubert/schuim-3.mid\n",
            "Loading Music File: MyDrive/ColabNotebooks/NLP/datasets/schubert/schuim-2.mid\n",
            "Loading Music File: MyDrive/ColabNotebooks/NLP/datasets/schubert/schuim-1.mid\n",
            "Loading Music File: MyDrive/ColabNotebooks/NLP/datasets/schubert/schub_d960_4.mid\n",
            "Loading Music File: MyDrive/ColabNotebooks/NLP/datasets/schubert/schub_d960_3.mid\n",
            "Loading Music File: MyDrive/ColabNotebooks/NLP/datasets/schubert/schub_d960_2.mid\n",
            "Loading Music File: MyDrive/ColabNotebooks/NLP/datasets/schubert/schub_d960_1.mid\n",
            "Loading Music File: MyDrive/ColabNotebooks/NLP/datasets/schubert/schub_d760_4.mid\n",
            "Loading Music File: MyDrive/ColabNotebooks/NLP/datasets/schubert/schub_d760_3.mid\n",
            "Loading Music File: MyDrive/ColabNotebooks/NLP/datasets/schubert/schub_d760_2.mid\n",
            "Loading Music File: MyDrive/ColabNotebooks/NLP/datasets/schubert/schub_d760_1.mid\n",
            "Loading Music File: MyDrive/ColabNotebooks/NLP/datasets/schubert/schubert_D935_4.mid\n",
            "Loading Music File: MyDrive/ColabNotebooks/NLP/datasets/schubert/schubert_D935_3.mid\n",
            "Loading Music File: MyDrive/ColabNotebooks/NLP/datasets/schubert/schubert_D935_2.mid\n",
            "Loading Music File: MyDrive/ColabNotebooks/NLP/datasets/schubert/schubert_D935_1.mid\n",
            "Loading Music File: MyDrive/ColabNotebooks/NLP/datasets/schubert/schubert_D850_1.mid\n",
            "Loading Music File: MyDrive/ColabNotebooks/NLP/datasets/schubert/schubert_D850_2.mid\n",
            "Loading Music File: MyDrive/ColabNotebooks/NLP/datasets/schubert/schubert_D850_4.mid\n",
            "Loading Music File: MyDrive/ColabNotebooks/NLP/datasets/schubert/schubert_D850_3.mid\n"
          ],
          "name": "stdout"
        },
        {
          "output_type": "stream",
          "text": [
            "/usr/local/lib/python3.6/dist-packages/ipykernel_launcher.py:14: VisibleDeprecationWarning: Creating an ndarray from ragged nested sequences (which is a list-or-tuple of lists-or-tuples-or ndarrays with different lengths or shapes) is deprecated. If you meant to do this, you must specify 'dtype=object' when creating the ndarray\n",
            "  \n"
          ],
          "name": "stderr"
        }
      ]
    },
    {
      "cell_type": "code",
      "metadata": {
        "colab": {
          "base_uri": "https://localhost:8080/"
        },
        "id": "dJZ0TN-Wefkr",
        "outputId": "31122d50-7d9c-4958-bf1c-29b6eb53ab03"
      },
      "source": [
        "#converting 2D array into 1D array\r\n",
        "notes_ = [element for note_ in notes_array for element in note_]\r\n",
        "\r\n",
        "#No. of unique notes\r\n",
        "unique_notes = list(set(notes_))\r\n",
        "print(len(unique_notes))"
      ],
      "execution_count": 22,
      "outputs": [
        {
          "output_type": "stream",
          "text": [
            "304\n"
          ],
          "name": "stdout"
        }
      ]
    },
    {
      "cell_type": "code",
      "metadata": {
        "colab": {
          "base_uri": "https://localhost:8080/",
          "height": 404
        },
        "id": "ufBKzRxYkJ6E",
        "outputId": "a9ab1d03-1dbb-456f-d39e-439767c92966"
      },
      "source": [
        "#importing library\r\n",
        "from collections import Counter\r\n",
        "\r\n",
        "#computing frequency of each note\r\n",
        "freq = dict(Counter(notes_))\r\n",
        "\r\n",
        "#library for visualiation\r\n",
        "import matplotlib.pyplot as plt\r\n",
        "\r\n",
        "#consider only the frequencies\r\n",
        "no=[count for _,count in freq.items()]\r\n",
        "\r\n",
        "#set the figure size\r\n",
        "plt.figure(figsize=(5,5))\r\n",
        "\r\n",
        "#plot\r\n",
        "plt.hist(no)"
      ],
      "execution_count": 24,
      "outputs": [
        {
          "output_type": "execute_result",
          "data": {
            "text/plain": [
              "(array([187.,  41.,  26.,  11.,   6.,   9.,  12.,   6.,   3.,   3.]),\n",
              " array([1.0000e+00, 1.4790e+02, 2.9480e+02, 4.4170e+02, 5.8860e+02,\n",
              "        7.3550e+02, 8.8240e+02, 1.0293e+03, 1.1762e+03, 1.3231e+03,\n",
              "        1.4700e+03]),\n",
              " <a list of 10 Patch objects>)"
            ]
          },
          "metadata": {
            "tags": []
          },
          "execution_count": 24
        },
        {
          "output_type": "display_data",
          "data": {
            "image/png": "[encoded data removed]",
            "text/plain": [
              "<Figure size 360x360 with 1 Axes>"
            ]
          },
          "metadata": {
            "tags": [],
            "image/png": {
              "width": 319,
              "height": 302
            },
            "needs_background": "light"
          }
        }
      ]
    },
    {
      "cell_type": "code",
      "metadata": {
        "colab": {
          "base_uri": "https://localhost:8080/"
        },
        "id": "VbP7cenwkJ-L",
        "outputId": "48f9a1ec-b8cd-4e24-b559-df037286c7e5"
      },
      "source": [
        "frequent_notes = [note_ for note_, count in freq.items() if count>=50]\r\n",
        "print(len(frequent_notes))"
      ],
      "execution_count": 25,
      "outputs": [
        {
          "output_type": "stream",
          "text": [
            "167\n"
          ],
          "name": "stdout"
        }
      ]
    },
    {
      "cell_type": "code",
      "metadata": {
        "colab": {
          "base_uri": "https://localhost:8080/"
        },
        "id": "WM7Zb4cRkcOn",
        "outputId": "77e0f67a-2c43-42b2-fc9d-40e0a3575da2"
      },
      "source": [
        "\r\n",
        "new_music=[]\r\n",
        "\r\n",
        "for notes in notes_array:\r\n",
        "    temp=[]\r\n",
        "    for note_ in notes:\r\n",
        "        if note_ in frequent_notes:\r\n",
        "            temp.append(note_)            \r\n",
        "    new_music.append(temp)\r\n",
        "    \r\n",
        "new_music = np.array(new_music)"
      ],
      "execution_count": 26,
      "outputs": [
        {
          "output_type": "stream",
          "text": [
            "/usr/local/lib/python3.6/dist-packages/ipykernel_launcher.py:11: VisibleDeprecationWarning: Creating an ndarray from ragged nested sequences (which is a list-or-tuple of lists-or-tuples-or ndarrays with different lengths or shapes) is deprecated. If you meant to do this, you must specify 'dtype=object' when creating the ndarray\n",
            "  # This is added back by InteractiveShellApp.init_path()\n"
          ],
          "name": "stderr"
        }
      ]
    },
    {
      "cell_type": "code",
      "metadata": {
        "id": "y_7h0iP1kfKK"
      },
      "source": [
        "no_of_timesteps = 32\r\n",
        "x = []\r\n",
        "y = []\r\n",
        "\r\n",
        "for note_ in new_music:\r\n",
        "    for i in range(0, len(note_) - no_of_timesteps, 1):\r\n",
        "        \r\n",
        "        #preparing input and output sequences\r\n",
        "        input_ = note_[i:i + no_of_timesteps]\r\n",
        "        output = note_[i + no_of_timesteps]\r\n",
        "        \r\n",
        "        x.append(input_)\r\n",
        "        y.append(output)\r\n",
        "        \r\n",
        "x=np.array(x)\r\n",
        "y=np.array(y)"
      ],
      "execution_count": 27,
      "outputs": []
    },
    {
      "cell_type": "code",
      "metadata": {
        "colab": {
          "base_uri": "https://localhost:8080/"
        },
        "id": "IC16sIBhkkix",
        "outputId": "5c663a5f-9cd4-46ab-ed17-733f68d7a95a"
      },
      "source": [
        "x"
      ],
      "execution_count": 28,
      "outputs": [
        {
          "output_type": "execute_result",
          "data": {
            "text/plain": [
              "array([['A4', 'B4', 'C5', ..., 'B4', 'C5', 'D5'],\n",
              "       ['B4', 'C5', 'B4', ..., 'C5', 'D5', 'C5'],\n",
              "       ['C5', 'B4', 'C5', ..., 'D5', 'C5', 'A4'],\n",
              "       ...,\n",
              "       ['9.2', 'A2', '4.7.9', ..., '2.6.9', 'D3', '2.6.9'],\n",
              "       ['A2', '4.7.9', '4.7.9', ..., 'D3', '2.6.9', '9.2'],\n",
              "       ['4.7.9', '4.7.9', 'G3', ..., '2.6.9', '9.2', '2.6.9']],\n",
              "      dtype='<U8')"
            ]
          },
          "metadata": {
            "tags": []
          },
          "execution_count": 28
        }
      ]
    },
    {
      "cell_type": "code",
      "metadata": {
        "colab": {
          "base_uri": "https://localhost:8080/"
        },
        "id": "9GODLMtalO2R",
        "outputId": "7a6d4beb-b68a-4648-bbfa-2b24952b032a"
      },
      "source": [
        "print(y)"
      ],
      "execution_count": 33,
      "outputs": [
        {
          "output_type": "stream",
          "text": [
            "['C5' 'A4' 'D5' ... '9.2' '2.6.9' '9.2']\n"
          ],
          "name": "stdout"
        }
      ]
    },
    {
      "cell_type": "code",
      "metadata": {
        "colab": {
          "base_uri": "https://localhost:8080/"
        },
        "id": "Y5JVzIVckmhn",
        "outputId": "1cd7a935-dd85-4993-95fa-1304af1b7427"
      },
      "source": [
        "x.shape, y.shape"
      ],
      "execution_count": 32,
      "outputs": [
        {
          "output_type": "execute_result",
          "data": {
            "text/plain": [
              "((64413, 32), (64413,))"
            ]
          },
          "metadata": {
            "tags": []
          },
          "execution_count": 32
        }
      ]
    },
    {
      "cell_type": "code",
      "metadata": {
        "id": "7US5caJyknW1"
      },
      "source": [
        "unique_x = list(set(x.ravel()))\r\n",
        "x_note_to_int = dict((note_, number) for number, note_ in enumerate(unique_x))"
      ],
      "execution_count": 34,
      "outputs": []
    },
    {
      "cell_type": "code",
      "metadata": {
        "id": "a7OPIyQ2lWEe"
      },
      "source": [
        "#preparing input sequences\r\n",
        "x_seq=[]\r\n",
        "for i in x:\r\n",
        "    temp=[]\r\n",
        "    for j in i:\r\n",
        "        #assigning unique integer to every note\r\n",
        "        temp.append(x_note_to_int[j])\r\n",
        "    x_seq.append(temp)\r\n",
        "    \r\n",
        "x_seq = np.array(x_seq)"
      ],
      "execution_count": 35,
      "outputs": []
    },
    {
      "cell_type": "code",
      "metadata": {
        "id": "5dytGi-9ldgq"
      },
      "source": [
        "unique_y = list(set(y))\r\n",
        "y_note_to_int = dict((note_, number) for number, note_ in enumerate(unique_y)) \r\n",
        "y_seq=np.array([y_note_to_int[i] for i in y])"
      ],
      "execution_count": 36,
      "outputs": []
    },
    {
      "cell_type": "code",
      "metadata": {
        "id": "d51gycrklfX-"
      },
      "source": [
        "from sklearn.model_selection import train_test_split\r\n",
        "x_tr, x_val, y_tr, y_val = train_test_split(x_seq,y_seq,test_size=0.2,random_state=0)"
      ],
      "execution_count": 37,
      "outputs": []
    },
    {
      "cell_type": "code",
      "metadata": {
        "id": "a010CClWliFl"
      },
      "source": [
        "def lstm():\r\n",
        "  model = Sequential()\r\n",
        "  model.add(LSTM(128,return_sequences=True))\r\n",
        "  model.add(LSTM(128))\r\n",
        "  model.add(Dense(256))\r\n",
        "  model.add(Activation('relu'))\r\n",
        "  model.add(Dense(n_vocab))\r\n",
        "  model.add(Activation('softmax'))\r\n",
        "  model.compile(loss='sparse_categorical_crossentropy', optimizer='adam')\r\n",
        "  return model"
      ],
      "execution_count": 38,
      "outputs": []
    },
    {
      "cell_type": "code",
      "metadata": {
        "colab": {
          "base_uri": "https://localhost:8080/"
        },
        "id": "FJeu5rkxlkO7",
        "outputId": "748ace9e-a6a3-4af0-a3eb-510a7269df75"
      },
      "source": [
        "from keras.layers import *\r\n",
        "from keras.models import *\r\n",
        "from keras.callbacks import *\r\n",
        "import keras.backend as K\r\n",
        "\r\n",
        "K.clear_session()\r\n",
        "model = Sequential()\r\n",
        "    \r\n",
        "#embedding layer\r\n",
        "model.add(Embedding(len(unique_x), 100, input_length=32,trainable=True)) \r\n",
        "\r\n",
        "model.add(Conv1D(64,3, padding='causal',activation='relu'))\r\n",
        "model.add(Dropout(0.2))\r\n",
        "model.add(MaxPool1D(2))\r\n",
        "    \r\n",
        "model.add(Conv1D(128,3,activation='relu',dilation_rate=2,padding='causal'))\r\n",
        "model.add(Dropout(0.2))\r\n",
        "model.add(MaxPool1D(2))\r\n",
        "\r\n",
        "model.add(Conv1D(256,3,activation='relu',dilation_rate=4,padding='causal'))\r\n",
        "model.add(Dropout(0.2))\r\n",
        "model.add(MaxPool1D(2))\r\n",
        "          \r\n",
        "#model.add(Conv1D(256,5,activation='relu'))    \r\n",
        "model.add(GlobalMaxPool1D())\r\n",
        "    \r\n",
        "model.add(Dense(256, activation='relu'))\r\n",
        "model.add(Dense(len(unique_y), activation='softmax'))\r\n",
        "    \r\n",
        "model.compile(loss='sparse_categorical_crossentropy', optimizer='adam')\r\n",
        "\r\n",
        "model.summary()"
      ],
      "execution_count": 39,
      "outputs": [
        {
          "output_type": "stream",
          "text": [
            "Model: \"sequential\"\n",
            "_________________________________________________________________\n",
            "Layer (type)                 Output Shape              Param #   \n",
            "=================================================================\n",
            "embedding (Embedding)        (None, 32, 100)           16700     \n",
            "_________________________________________________________________\n",
            "conv1d (Conv1D)              (None, 32, 64)            19264     \n",
            "_________________________________________________________________\n",
            "dropout (Dropout)            (None, 32, 64)            0         \n",
            "_________________________________________________________________\n",
            "max_pooling1d (MaxPooling1D) (None, 16, 64)            0         \n",
            "_________________________________________________________________\n",
            "conv1d_1 (Conv1D)            (None, 16, 128)           24704     \n",
            "_________________________________________________________________\n",
            "dropout_1 (Dropout)          (None, 16, 128)           0         \n",
            "_________________________________________________________________\n",
            "max_pooling1d_1 (MaxPooling1 (None, 8, 128)            0         \n",
            "_________________________________________________________________\n",
            "conv1d_2 (Conv1D)            (None, 8, 256)            98560     \n",
            "_________________________________________________________________\n",
            "dropout_2 (Dropout)          (None, 8, 256)            0         \n",
            "_________________________________________________________________\n",
            "max_pooling1d_2 (MaxPooling1 (None, 4, 256)            0         \n",
            "_________________________________________________________________\n",
            "global_max_pooling1d (Global (None, 256)               0         \n",
            "_________________________________________________________________\n",
            "dense (Dense)                (None, 256)               65792     \n",
            "_________________________________________________________________\n",
            "dense_1 (Dense)              (None, 167)               42919     \n",
            "=================================================================\n",
            "Total params: 267,939\n",
            "Trainable params: 267,939\n",
            "Non-trainable params: 0\n",
            "_________________________________________________________________\n"
          ],
          "name": "stdout"
        }
      ]
    },
    {
      "cell_type": "code",
      "metadata": {
        "id": "zPX3tkSJl1J6"
      },
      "source": [
        "mc=ModelCheckpoint('best_model.h5', monitor='val_loss', mode='min', save_best_only=True,verbose=1)"
      ],
      "execution_count": 49,
      "outputs": []
    },
    {
      "cell_type": "code",
      "metadata": {
        "id": "R8sph5KCmOhV"
      },
      "source": [
        "model_path = \"MyDrive/ColabNotebooks/NLP/models/\"\r\n",
        "if not os.path.isdir(model_path):\r\n",
        "    os.makedirs(model_path)"
      ],
      "execution_count": 50,
      "outputs": []
    },
    {
      "cell_type": "code",
      "metadata": {
        "id": "6sXPr3c_nDR6"
      },
      "source": [
        "ls \"MyDrive/ColabNotebooks/NLP/models/\""
      ],
      "execution_count": 51,
      "outputs": []
    },
    {
      "cell_type": "code",
      "metadata": {
        "colab": {
          "base_uri": "https://localhost:8080/"
        },
        "id": "OxdtIIj3l4gx",
        "outputId": "a20c2499-967d-4410-f102-13f7ecae129e"
      },
      "source": [
        "history = model.fit(np.array(x_tr),np.array(y_tr),batch_size=128,epochs=50, validation_data=(np.array(x_val),np.array(y_val)),verbose=1)"
      ],
      "execution_count": null,
      "outputs": [
        {
          "output_type": "stream",
          "text": [
            "Epoch 1/50\n",
            "403/403 [==============================] - 32s 80ms/step - loss: 3.4931 - val_loss: 3.6100\n",
            "Epoch 2/50\n",
            "403/403 [==============================] - 32s 79ms/step - loss: 3.3883 - val_loss: 3.5070\n",
            "Epoch 3/50\n",
            "403/403 [==============================] - 32s 80ms/step - loss: 3.3049 - val_loss: 3.4360\n",
            "Epoch 4/50\n",
            "403/403 [==============================] - 32s 80ms/step - loss: 3.2272 - val_loss: 3.3715\n",
            "Epoch 5/50\n",
            "403/403 [==============================] - 32s 80ms/step - loss: 3.1642 - val_loss: 3.3205\n",
            "Epoch 6/50\n",
            "403/403 [==============================] - 32s 79ms/step - loss: 3.1001 - val_loss: 3.3067\n",
            "Epoch 7/50\n",
            "403/403 [==============================] - 32s 80ms/step - loss: 3.0528 - val_loss: 3.2497\n",
            "Epoch 8/50\n",
            "403/403 [==============================] - 32s 79ms/step - loss: 3.0030 - val_loss: 3.2232\n",
            "Epoch 9/50\n",
            "403/403 [==============================] - 32s 79ms/step - loss: 2.9606 - val_loss: 3.1691\n",
            "Epoch 10/50\n",
            "403/403 [==============================] - 32s 80ms/step - loss: 2.9281 - val_loss: 3.1644\n",
            "Epoch 11/50\n",
            "403/403 [==============================] - 32s 79ms/step - loss: 2.8866 - val_loss: 3.1326\n",
            "Epoch 12/50\n",
            "403/403 [==============================] - 32s 80ms/step - loss: 2.8571 - val_loss: 3.1291\n",
            "Epoch 13/50\n",
            "403/403 [==============================] - 32s 80ms/step - loss: 2.8268 - val_loss: 3.0800\n",
            "Epoch 14/50\n",
            "403/403 [==============================] - 32s 80ms/step - loss: 2.7978 - val_loss: 3.0636\n",
            "Epoch 15/50\n",
            "403/403 [==============================] - 33s 81ms/step - loss: 2.7668 - val_loss: 3.0750\n",
            "Epoch 16/50\n",
            "403/403 [==============================] - 32s 80ms/step - loss: 2.7411 - val_loss: 3.0396\n",
            "Epoch 17/50\n",
            "403/403 [==============================] - 32s 80ms/step - loss: 2.7223 - val_loss: 3.0356\n",
            "Epoch 18/50\n",
            "403/403 [==============================] - 32s 79ms/step - loss: 2.6931 - val_loss: 3.0071\n",
            "Epoch 19/50\n",
            "386/403 [===========================>..] - ETA: 1s - loss: 2.6729"
          ],
          "name": "stdout"
        }
      ]
    },
    {
      "cell_type": "code",
      "metadata": {
        "id": "98EanpnGoxZe"
      },
      "source": [
        "# save model and architecture to single file\r\n",
        "model.save(\"best_model.h5\")\r\n",
        "print(\"Saved model to disk\")"
      ],
      "execution_count": null,
      "outputs": []
    },
    {
      "cell_type": "code",
      "metadata": {
        "id": "EjrkbPIDl6_r"
      },
      "source": [
        "#loading best model\r\n",
        "from keras.models import load_model\r\n",
        "model = load_model('best_model.h5')"
      ],
      "execution_count": null,
      "outputs": []
    },
    {
      "cell_type": "code",
      "metadata": {
        "id": "W64Zl_cFmtyj"
      },
      "source": [
        "import random\r\n",
        "ind = np.random.randint(0,len(x_val)-1)\r\n",
        "\r\n",
        "random_music = x_val[ind]\r\n",
        "\r\n",
        "predictions=[]\r\n",
        "for i in range(10):\r\n",
        "\r\n",
        "    random_music = random_music.reshape(1,no_of_timesteps)\r\n",
        "\r\n",
        "    prob  = model.predict(random_music)[0]\r\n",
        "    y_pred= np.argmax(prob,axis=0)\r\n",
        "    predictions.append(y_pred)\r\n",
        "\r\n",
        "    random_music = np.insert(random_music[0],len(random_music[0]),y_pred)\r\n",
        "    random_music = random_music[1:]\r\n",
        "    \r\n",
        "print(predictions)"
      ],
      "execution_count": null,
      "outputs": []
    },
    {
      "cell_type": "code",
      "metadata": {
        "id": "J-Kv5ImAmt1u"
      },
      "source": [
        "x_int_to_note = dict((number, note_) for number, note_ in enumerate(unique_x)) \r\n",
        "predicted_notes = [x_int_to_note[i] for i in predictions]"
      ],
      "execution_count": null,
      "outputs": []
    },
    {
      "cell_type": "code",
      "metadata": {
        "id": "g0_2QlDDmxyO"
      },
      "source": [
        "def convert_to_midi(prediction_output):\r\n",
        "   \r\n",
        "    offset = 0\r\n",
        "    output_notes = []\r\n",
        "\r\n",
        "    # create note and chord objects based on the values generated by the model\r\n",
        "    for pattern in prediction_output:\r\n",
        "        \r\n",
        "        # pattern is a chord\r\n",
        "        if ('.' in pattern) or pattern.isdigit():\r\n",
        "            notes_in_chord = pattern.split('.')\r\n",
        "            notes = []\r\n",
        "            for current_note in notes_in_chord:\r\n",
        "                \r\n",
        "                cn=int(current_note)\r\n",
        "                new_note = note.Note(cn)\r\n",
        "                new_note.storedInstrument = instrument.Piano()\r\n",
        "                notes.append(new_note)\r\n",
        "                \r\n",
        "            new_chord = chord.Chord(notes)\r\n",
        "            new_chord.offset = offset\r\n",
        "            output_notes.append(new_chord)\r\n",
        "            \r\n",
        "        # pattern is a note\r\n",
        "        else:\r\n",
        "            \r\n",
        "            new_note = note.Note(pattern)\r\n",
        "            new_note.offset = offset\r\n",
        "            new_note.storedInstrument = instrument.Piano()\r\n",
        "            output_notes.append(new_note)\r\n",
        "\r\n",
        "        # increase offset each iteration so that notes do not stack\r\n",
        "        offset += 1\r\n",
        "    midi_stream = stream.Stream(output_notes)\r\n",
        "    midi_stream.write('midi', fp='music.mid')"
      ],
      "execution_count": null,
      "outputs": []
    },
    {
      "cell_type": "code",
      "metadata": {
        "id": "BvWuQCbzmx1b"
      },
      "source": [
        "convert_to_midi(predicted_notes)"
      ],
      "execution_count": null,
      "outputs": []
    },
    {
      "cell_type": "code",
      "metadata": {
        "id": "BfwnzFkno1nf"
      },
      "source": [
        ""
      ],
      "execution_count": null,
      "outputs": []
    }
  ]
}